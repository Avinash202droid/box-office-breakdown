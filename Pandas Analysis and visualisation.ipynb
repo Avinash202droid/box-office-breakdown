{
 "cells": [
  {
   "cell_type": "code",
   "execution_count": 1,
   "id": "07e1496c-19d9-4181-be0e-5e8941df0df7",
   "metadata": {},
   "outputs": [],
   "source": [
    "import pandas as pd\n",
    "import numpy as np\n",
    "import seaborn as sns\n",
    "import matplotlib.pyplot as plt\n",
    "%matplotlib inline\n",
    "from urllib.request import urlretrieve\n"
   ]
  },
  {
   "cell_type": "code",
   "execution_count": 4,
   "id": "0719f687-332b-41ac-bde5-f36991a4d29d",
   "metadata": {},
   "outputs": [],
   "source": [
    "file =pd.read_csv(r\"E:\\IMDB data set\\original_data.csv\")\n"
   ]
  },
  {
   "cell_type": "code",
   "execution_count": 18,
   "id": "8333bcaa-361b-47e3-a447-e67cb29cbc57",
   "metadata": {},
   "outputs": [
    {
     "data": {
      "text/plain": [
       "Index(['Poster_Link', 'Series_Title', 'Released_Year', 'Certificate',\n",
       "       'Runtime', 'Genre', 'IMDB_Rating', 'Overview', 'Meta_score', 'Director',\n",
       "       'Star1', 'Star2', 'Star3', 'Star4', 'No_of_Votes', 'Gross'],\n",
       "      dtype='object')"
      ]
     },
     "execution_count": 18,
     "metadata": {},
     "output_type": "execute_result"
    }
   ],
   "source": [
    "file.columns"
   ]
  },
  {
   "cell_type": "markdown",
   "id": "5d4eb517-12f8-4e6d-851d-3a33e42508f9",
   "metadata": {},
   "source": [
    "# checking for columns and data inconsistency if any\n"
   ]
  },
  {
   "cell_type": "code",
   "execution_count": 7,
   "id": "1c5c5ddd-03ae-4874-b62e-00deb6b2d6a8",
   "metadata": {},
   "outputs": [
    {
     "data": {
      "text/html": [
       "<div>\n",
       "<style scoped>\n",
       "    .dataframe tbody tr th:only-of-type {\n",
       "        vertical-align: middle;\n",
       "    }\n",
       "\n",
       "    .dataframe tbody tr th {\n",
       "        vertical-align: top;\n",
       "    }\n",
       "\n",
       "    .dataframe thead th {\n",
       "        text-align: right;\n",
       "    }\n",
       "</style>\n",
       "<table border=\"1\" class=\"dataframe\">\n",
       "  <thead>\n",
       "    <tr style=\"text-align: right;\">\n",
       "      <th></th>\n",
       "      <th>IMDB_Rating</th>\n",
       "      <th>Meta_score</th>\n",
       "      <th>No_of_Votes</th>\n",
       "    </tr>\n",
       "  </thead>\n",
       "  <tbody>\n",
       "    <tr>\n",
       "      <th>count</th>\n",
       "      <td>1000.000000</td>\n",
       "      <td>843.000000</td>\n",
       "      <td>1.000000e+03</td>\n",
       "    </tr>\n",
       "    <tr>\n",
       "      <th>mean</th>\n",
       "      <td>7.949300</td>\n",
       "      <td>77.971530</td>\n",
       "      <td>2.736929e+05</td>\n",
       "    </tr>\n",
       "    <tr>\n",
       "      <th>std</th>\n",
       "      <td>0.275491</td>\n",
       "      <td>12.376099</td>\n",
       "      <td>3.273727e+05</td>\n",
       "    </tr>\n",
       "    <tr>\n",
       "      <th>min</th>\n",
       "      <td>7.600000</td>\n",
       "      <td>28.000000</td>\n",
       "      <td>2.508800e+04</td>\n",
       "    </tr>\n",
       "    <tr>\n",
       "      <th>25%</th>\n",
       "      <td>7.700000</td>\n",
       "      <td>70.000000</td>\n",
       "      <td>5.552625e+04</td>\n",
       "    </tr>\n",
       "    <tr>\n",
       "      <th>50%</th>\n",
       "      <td>7.900000</td>\n",
       "      <td>79.000000</td>\n",
       "      <td>1.385485e+05</td>\n",
       "    </tr>\n",
       "    <tr>\n",
       "      <th>75%</th>\n",
       "      <td>8.100000</td>\n",
       "      <td>87.000000</td>\n",
       "      <td>3.741612e+05</td>\n",
       "    </tr>\n",
       "    <tr>\n",
       "      <th>max</th>\n",
       "      <td>9.300000</td>\n",
       "      <td>100.000000</td>\n",
       "      <td>2.343110e+06</td>\n",
       "    </tr>\n",
       "  </tbody>\n",
       "</table>\n",
       "</div>"
      ],
      "text/plain": [
       "       IMDB_Rating  Meta_score   No_of_Votes\n",
       "count  1000.000000  843.000000  1.000000e+03\n",
       "mean      7.949300   77.971530  2.736929e+05\n",
       "std       0.275491   12.376099  3.273727e+05\n",
       "min       7.600000   28.000000  2.508800e+04\n",
       "25%       7.700000   70.000000  5.552625e+04\n",
       "50%       7.900000   79.000000  1.385485e+05\n",
       "75%       8.100000   87.000000  3.741612e+05\n",
       "max       9.300000  100.000000  2.343110e+06"
      ]
     },
     "execution_count": 7,
     "metadata": {},
     "output_type": "execute_result"
    }
   ],
   "source": [
    "file.describe()"
   ]
  },
  {
   "cell_type": "markdown",
   "id": "d9a66090-96b3-4d5d-8296-e1374a853527",
   "metadata": {},
   "source": [
    "# checking null values"
   ]
  },
  {
   "cell_type": "code",
   "execution_count": 9,
   "id": "a4139c31-cb0b-448e-8b92-baf2331d6a17",
   "metadata": {},
   "outputs": [
    {
     "data": {
      "text/plain": [
       "Poster_Link        0\n",
       "Series_Title       0\n",
       "Released_Year      0\n",
       "Certificate      101\n",
       "Runtime            0\n",
       "Genre              0\n",
       "IMDB_Rating        0\n",
       "Overview           0\n",
       "Meta_score       157\n",
       "Director           0\n",
       "Star1              0\n",
       "Star2              0\n",
       "Star3              0\n",
       "Star4              0\n",
       "No_of_Votes        0\n",
       "Gross            169\n",
       "dtype: int64"
      ]
     },
     "execution_count": 9,
     "metadata": {},
     "output_type": "execute_result"
    }
   ],
   "source": [
    "file.isnull().sum()"
   ]
  },
  {
   "cell_type": "markdown",
   "id": "22f86e5d-94a2-4de8-95c6-43bb62173a7f",
   "metadata": {},
   "source": [
    "# Data cleaning"
   ]
  },
  {
   "cell_type": "code",
   "execution_count": 16,
   "id": "3b9c4d70-d1ae-4c25-850e-cb2f2cce1cd7",
   "metadata": {},
   "outputs": [],
   "source": [
    "#meta score\n",
    "file.Meta_score=pd.to_numeric(file.Meta_score,errors='coerce')\n",
    "file.Meta_score=file.Meta_score.fillna(0)\n"
   ]
  },
  {
   "cell_type": "code",
   "execution_count": 22,
   "id": "f394312e-143a-4262-b776-f09424fb6a4a",
   "metadata": {},
   "outputs": [],
   "source": [
    "#runtime\n",
    "file.Runtime=file.Runtime.str.replace('min','',regex=False)\n",
    "file.Runtime=pd.to_numeric(file.Runtime,errors='coerce')"
   ]
  },
  {
   "cell_type": "code",
   "execution_count": 23,
   "id": "0552dee5-6186-4e1d-9e17-5cf4f2aa53f9",
   "metadata": {},
   "outputs": [],
   "source": [
    "#certificate\n",
    "file.Certificate=file.Certificate.fillna('Unrated')"
   ]
  },
  {
   "cell_type": "code",
   "execution_count": 24,
   "id": "71c3aa17-4285-40ac-81a9-7d617cff37ee",
   "metadata": {},
   "outputs": [
    {
     "data": {
      "text/plain": [
       "Poster_Link      0\n",
       "Series_Title     0\n",
       "Released_Year    0\n",
       "Certificate      0\n",
       "Runtime          0\n",
       "Genre            0\n",
       "IMDB_Rating      0\n",
       "Overview         0\n",
       "Meta_score       0\n",
       "Director         0\n",
       "Star1            0\n",
       "Star2            0\n",
       "Star3            0\n",
       "Star4            0\n",
       "No_of_Votes      0\n",
       "Gross            0\n",
       "dtype: int64"
      ]
     },
     "execution_count": 24,
     "metadata": {},
     "output_type": "execute_result"
    }
   ],
   "source": [
    "file.isnull().sum()"
   ]
  },
  {
   "cell_type": "markdown",
   "id": "873f5b5b-ca4f-4e11-b73d-070ed7b7576b",
   "metadata": {},
   "source": [
    "# saving clean data\n"
   ]
  },
  {
   "cell_type": "code",
   "execution_count": 66,
   "id": "782a480f-49cf-4664-bc53-2dbf047c97a8",
   "metadata": {},
   "outputs": [],
   "source": [
    "file.to_csv('cleaned.csv',index=False)"
   ]
  },
  {
   "cell_type": "markdown",
   "id": "db66c8bd-ad24-4aa4-be58-345d88f89033",
   "metadata": {},
   "source": [
    "## 🎫 Certificate Distribution\n",
    "\n",
    "Understanding the distribution of movie certificates helps identify the content rating types that dominate the dataset.\n",
    "\n",
    "This is useful for both audience targeting and analyzing rating trends across different content categories (e.g., PG, R, PG-13, etc.).\n"
   ]
  },
  {
   "cell_type": "code",
   "execution_count": 30,
   "id": "629fc800-0874-465e-8bdc-b0e6fbbd76ef",
   "metadata": {},
   "outputs": [
    {
     "name": "stdout",
     "output_type": "stream",
     "text": [
      "   Certificate  Num\n",
      "0            U  234\n",
      "1            A  197\n",
      "2           UA  175\n",
      "3            R  146\n",
      "4      Unrated  102\n",
      "5        PG-13   43\n",
      "6           PG   37\n",
      "7       Passed   34\n",
      "8            G   12\n",
      "9     Approved   11\n",
      "10       TV-PG    3\n",
      "11          GP    2\n",
      "12       TV-MA    1\n",
      "13          16    1\n",
      "14       TV-14    1\n",
      "15         U/A    1\n"
     ]
    }
   ],
   "source": [
    "cer=file.Certificate.value_counts().reset_index()\n",
    "cer.columns=['Certificate','Num']\n",
    "cer.sort_values('Num',ascending=False)\n",
    "print(cer)"
   ]
  },
  {
   "cell_type": "markdown",
   "id": "84ec5fa4-e088-4b85-964d-6c1e0122af6b",
   "metadata": {},
   "source": [
    "* Most of the movies are in the category of U,A,UA and R\n",
    "* The certificate category U has highest Movies with 234 Movies\n",
    "  "
   ]
  },
  {
   "cell_type": "markdown",
   "id": "34826fe5-28d5-434a-b5ac-c5ca0996fe00",
   "metadata": {},
   "source": [
    "## 📊 Certificate vs IMDb, Gross, Runtime & Meta Score\n",
    "\n",
    "To get a broader view of how movie certifications relate to key metrics, we grouped by `Certificate` and calculated the average for:\n",
    "\n",
    "- **IMDb Rating** (audience reception)\n",
    "- **Gross** (box office performance)\n",
    "- **Runtime** (length)\n",
    "- **Meta Score** (critic rating)\n",
    "\n",
    "This helps us spot patterns like:\n",
    "- Do U-rated films tend to be shorter?\n",
    "- Do A-rated films earn more?\n",
    "- Which certification gets the highest critic scores?\n"
   ]
  },
  {
   "cell_type": "code",
   "execution_count": 35,
   "id": "22f82269-a66d-4cb4-9fe5-721d2175dc33",
   "metadata": {},
   "outputs": [
    {
     "data": {
      "text/html": [
       "<div>\n",
       "<style scoped>\n",
       "    .dataframe tbody tr th:only-of-type {\n",
       "        vertical-align: middle;\n",
       "    }\n",
       "\n",
       "    .dataframe tbody tr th {\n",
       "        vertical-align: top;\n",
       "    }\n",
       "\n",
       "    .dataframe thead th {\n",
       "        text-align: right;\n",
       "    }\n",
       "</style>\n",
       "<table border=\"1\" class=\"dataframe\">\n",
       "  <thead>\n",
       "    <tr style=\"text-align: right;\">\n",
       "      <th></th>\n",
       "      <th>IMDB_Rating</th>\n",
       "      <th>Gross</th>\n",
       "      <th>Runtime</th>\n",
       "      <th>Meta_score</th>\n",
       "    </tr>\n",
       "    <tr>\n",
       "      <th>Certificate</th>\n",
       "      <th></th>\n",
       "      <th></th>\n",
       "      <th></th>\n",
       "      <th></th>\n",
       "    </tr>\n",
       "  </thead>\n",
       "  <tbody>\n",
       "    <tr>\n",
       "      <th>TV-14</th>\n",
       "      <td>8.300000</td>\n",
       "      <td>0.0</td>\n",
       "      <td>132.000000</td>\n",
       "      <td>0.000000</td>\n",
       "    </tr>\n",
       "    <tr>\n",
       "      <th>16</th>\n",
       "      <td>8.100000</td>\n",
       "      <td>0.0</td>\n",
       "      <td>130.000000</td>\n",
       "      <td>78.000000</td>\n",
       "    </tr>\n",
       "    <tr>\n",
       "      <th>TV-MA</th>\n",
       "      <td>8.100000</td>\n",
       "      <td>0.0</td>\n",
       "      <td>106.000000</td>\n",
       "      <td>0.000000</td>\n",
       "    </tr>\n",
       "    <tr>\n",
       "      <th>Passed</th>\n",
       "      <td>8.020588</td>\n",
       "      <td>0.0</td>\n",
       "      <td>106.205882</td>\n",
       "      <td>46.205882</td>\n",
       "    </tr>\n",
       "    <tr>\n",
       "      <th>G</th>\n",
       "      <td>8.000000</td>\n",
       "      <td>0.0</td>\n",
       "      <td>119.666667</td>\n",
       "      <td>71.750000</td>\n",
       "    </tr>\n",
       "    <tr>\n",
       "      <th>A</th>\n",
       "      <td>7.998985</td>\n",
       "      <td>0.0</td>\n",
       "      <td>128.939086</td>\n",
       "      <td>73.994924</td>\n",
       "    </tr>\n",
       "    <tr>\n",
       "      <th>U</th>\n",
       "      <td>7.976923</td>\n",
       "      <td>0.0</td>\n",
       "      <td>124.158120</td>\n",
       "      <td>67.948718</td>\n",
       "    </tr>\n",
       "    <tr>\n",
       "      <th>UA</th>\n",
       "      <td>7.957143</td>\n",
       "      <td>0.0</td>\n",
       "      <td>129.331429</td>\n",
       "      <td>62.314286</td>\n",
       "    </tr>\n",
       "    <tr>\n",
       "      <th>Approved</th>\n",
       "      <td>7.945455</td>\n",
       "      <td>0.0</td>\n",
       "      <td>111.090909</td>\n",
       "      <td>72.000000</td>\n",
       "    </tr>\n",
       "    <tr>\n",
       "      <th>Unrated</th>\n",
       "      <td>7.933333</td>\n",
       "      <td>0.0</td>\n",
       "      <td>111.882353</td>\n",
       "      <td>45.980392</td>\n",
       "    </tr>\n",
       "    <tr>\n",
       "      <th>PG</th>\n",
       "      <td>7.927027</td>\n",
       "      <td>0.0</td>\n",
       "      <td>114.270270</td>\n",
       "      <td>67.270270</td>\n",
       "    </tr>\n",
       "    <tr>\n",
       "      <th>TV-PG</th>\n",
       "      <td>7.900000</td>\n",
       "      <td>0.0</td>\n",
       "      <td>93.666667</td>\n",
       "      <td>86.666667</td>\n",
       "    </tr>\n",
       "    <tr>\n",
       "      <th>R</th>\n",
       "      <td>7.869863</td>\n",
       "      <td>0.0</td>\n",
       "      <td>122.369863</td>\n",
       "      <td>70.479452</td>\n",
       "    </tr>\n",
       "    <tr>\n",
       "      <th>GP</th>\n",
       "      <td>7.850000</td>\n",
       "      <td>0.0</td>\n",
       "      <td>124.500000</td>\n",
       "      <td>25.000000</td>\n",
       "    </tr>\n",
       "    <tr>\n",
       "      <th>PG-13</th>\n",
       "      <td>7.797674</td>\n",
       "      <td>0.0</td>\n",
       "      <td>116.953488</td>\n",
       "      <td>74.325581</td>\n",
       "    </tr>\n",
       "  </tbody>\n",
       "</table>\n",
       "</div>"
      ],
      "text/plain": [
       "             IMDB_Rating  Gross     Runtime  Meta_score\n",
       "Certificate                                            \n",
       "TV-14           8.300000    0.0  132.000000    0.000000\n",
       "16              8.100000    0.0  130.000000   78.000000\n",
       "TV-MA           8.100000    0.0  106.000000    0.000000\n",
       "Passed          8.020588    0.0  106.205882   46.205882\n",
       "G               8.000000    0.0  119.666667   71.750000\n",
       "A               7.998985    0.0  128.939086   73.994924\n",
       "U               7.976923    0.0  124.158120   67.948718\n",
       "UA              7.957143    0.0  129.331429   62.314286\n",
       "Approved        7.945455    0.0  111.090909   72.000000\n",
       "Unrated         7.933333    0.0  111.882353   45.980392\n",
       "PG              7.927027    0.0  114.270270   67.270270\n",
       "TV-PG           7.900000    0.0   93.666667   86.666667\n",
       "R               7.869863    0.0  122.369863   70.479452\n",
       "GP              7.850000    0.0  124.500000   25.000000\n",
       "PG-13           7.797674    0.0  116.953488   74.325581"
      ]
     },
     "execution_count": 35,
     "metadata": {},
     "output_type": "execute_result"
    }
   ],
   "source": [
    "new_file=file.groupby('Certificate')[['IMDB_Rating','Gross','Runtime','Meta_score']].mean()\n",
    "new_file.sort_values('IMDB_Rating',ascending=False,inplace=True)\n",
    "new_file.head(15)"
   ]
  },
  {
   "cell_type": "markdown",
   "id": "475db14e-b91b-4e72-bdb0-f9b0d80d8ede",
   "metadata": {},
   "source": [
    "* Insights\n",
    "  * The **TV_14** has the highest IMDb rating with an average of **8.3**\n",
    "    "
   ]
  },
  {
   "cell_type": "markdown",
   "id": "504cd94f-ced2-414e-92bd-7079d965d79d",
   "metadata": {},
   "source": [
    "## 🏆 Top 10 Highest IMDb Rated Movies\n",
    "This gives us the top 10 movies, which can be used as benchmarks when exploring trends in genres, runtime, certificates, and box office performance.\n"
   ]
  },
  {
   "cell_type": "code",
   "execution_count": 37,
   "id": "3980f8d5-c087-4a03-ae5c-a21b379026da",
   "metadata": {},
   "outputs": [
    {
     "data": {
      "text/html": [
       "<div>\n",
       "<style scoped>\n",
       "    .dataframe tbody tr th:only-of-type {\n",
       "        vertical-align: middle;\n",
       "    }\n",
       "\n",
       "    .dataframe tbody tr th {\n",
       "        vertical-align: top;\n",
       "    }\n",
       "\n",
       "    .dataframe thead th {\n",
       "        text-align: right;\n",
       "    }\n",
       "</style>\n",
       "<table border=\"1\" class=\"dataframe\">\n",
       "  <thead>\n",
       "    <tr style=\"text-align: right;\">\n",
       "      <th></th>\n",
       "      <th>Series_Title</th>\n",
       "      <th>IMDB_Rating</th>\n",
       "      <th>Genre</th>\n",
       "      <th>Certificate</th>\n",
       "      <th>Runtime</th>\n",
       "    </tr>\n",
       "  </thead>\n",
       "  <tbody>\n",
       "    <tr>\n",
       "      <th>0</th>\n",
       "      <td>The Shawshank Redemption</td>\n",
       "      <td>9.3</td>\n",
       "      <td>Drama</td>\n",
       "      <td>A</td>\n",
       "      <td>142</td>\n",
       "    </tr>\n",
       "    <tr>\n",
       "      <th>1</th>\n",
       "      <td>The Godfather</td>\n",
       "      <td>9.2</td>\n",
       "      <td>Crime, Drama</td>\n",
       "      <td>A</td>\n",
       "      <td>175</td>\n",
       "    </tr>\n",
       "    <tr>\n",
       "      <th>4</th>\n",
       "      <td>12 Angry Men</td>\n",
       "      <td>9.0</td>\n",
       "      <td>Crime, Drama</td>\n",
       "      <td>U</td>\n",
       "      <td>96</td>\n",
       "    </tr>\n",
       "    <tr>\n",
       "      <th>2</th>\n",
       "      <td>The Dark Knight</td>\n",
       "      <td>9.0</td>\n",
       "      <td>Action, Crime, Drama</td>\n",
       "      <td>UA</td>\n",
       "      <td>152</td>\n",
       "    </tr>\n",
       "    <tr>\n",
       "      <th>3</th>\n",
       "      <td>The Godfather: Part II</td>\n",
       "      <td>9.0</td>\n",
       "      <td>Crime, Drama</td>\n",
       "      <td>A</td>\n",
       "      <td>202</td>\n",
       "    </tr>\n",
       "    <tr>\n",
       "      <th>5</th>\n",
       "      <td>The Lord of the Rings: The Return of the King</td>\n",
       "      <td>8.9</td>\n",
       "      <td>Action, Adventure, Drama</td>\n",
       "      <td>U</td>\n",
       "      <td>201</td>\n",
       "    </tr>\n",
       "    <tr>\n",
       "      <th>7</th>\n",
       "      <td>Schindler's List</td>\n",
       "      <td>8.9</td>\n",
       "      <td>Biography, Drama, History</td>\n",
       "      <td>A</td>\n",
       "      <td>195</td>\n",
       "    </tr>\n",
       "    <tr>\n",
       "      <th>6</th>\n",
       "      <td>Pulp Fiction</td>\n",
       "      <td>8.9</td>\n",
       "      <td>Crime, Drama</td>\n",
       "      <td>A</td>\n",
       "      <td>154</td>\n",
       "    </tr>\n",
       "    <tr>\n",
       "      <th>8</th>\n",
       "      <td>Inception</td>\n",
       "      <td>8.8</td>\n",
       "      <td>Action, Adventure, Sci-Fi</td>\n",
       "      <td>UA</td>\n",
       "      <td>148</td>\n",
       "    </tr>\n",
       "    <tr>\n",
       "      <th>12</th>\n",
       "      <td>Il buono, il brutto, il cattivo</td>\n",
       "      <td>8.8</td>\n",
       "      <td>Western</td>\n",
       "      <td>A</td>\n",
       "      <td>161</td>\n",
       "    </tr>\n",
       "  </tbody>\n",
       "</table>\n",
       "</div>"
      ],
      "text/plain": [
       "                                     Series_Title  IMDB_Rating  \\\n",
       "0                        The Shawshank Redemption          9.3   \n",
       "1                                   The Godfather          9.2   \n",
       "4                                    12 Angry Men          9.0   \n",
       "2                                 The Dark Knight          9.0   \n",
       "3                          The Godfather: Part II          9.0   \n",
       "5   The Lord of the Rings: The Return of the King          8.9   \n",
       "7                                Schindler's List          8.9   \n",
       "6                                    Pulp Fiction          8.9   \n",
       "8                                       Inception          8.8   \n",
       "12                Il buono, il brutto, il cattivo          8.8   \n",
       "\n",
       "                        Genre Certificate  Runtime  \n",
       "0                       Drama           A      142  \n",
       "1                Crime, Drama           A      175  \n",
       "4                Crime, Drama           U       96  \n",
       "2        Action, Crime, Drama          UA      152  \n",
       "3                Crime, Drama           A      202  \n",
       "5    Action, Adventure, Drama           U      201  \n",
       "7   Biography, Drama, History           A      195  \n",
       "6                Crime, Drama           A      154  \n",
       "8   Action, Adventure, Sci-Fi          UA      148  \n",
       "12                    Western           A      161  "
      ]
     },
     "execution_count": 37,
     "metadata": {},
     "output_type": "execute_result"
    }
   ],
   "source": [
    "top_10_movies_imdb=file.sort_values('IMDB_Rating',ascending=False)\n",
    "top_10_movies_imdb[['Series_Title', 'IMDB_Rating', 'Genre', 'Certificate', 'Runtime']].head(10)\n"
   ]
  },
  {
   "cell_type": "markdown",
   "id": "7d83aea4-6304-4e0b-8a8c-5556405c6f8a",
   "metadata": {},
   "source": [
    "**Insight:**\n",
    "\n",
    "The highest-rated movies tend to belong to genres like *Drama*, *Biography*, and *Crime*, with most having a `UA` or `A` certificate. \n",
    "\n",
    "These films also tend to be longer in runtime (often 140+ minutes), and while some are commercial hits (high gross), others are more critically appreciated than box office driven.\n",
    "\n",
    "This shows that most of the audieces tend to rate the film better having depth of story telling filled with drama and action\n",
    "\n"
   ]
  },
  {
   "cell_type": "markdown",
   "id": "d7ec2bdb-28be-4dae-9f9f-f5c29b2fd4de",
   "metadata": {},
   "source": [
    "## 📚 Average IMDb Rating by Genre\n",
    "** lets see which genre produces a better IMDB average\n",
    "Rather than just counting how often a genre appears, we calculate the **average IMDb rating** per genre.\n",
    "\n",
    "This tells us which genres tend to perform best in terms of audience satisfaction — a more reliable signal of movie success than frequency alone.\n"
   ]
  },
  {
   "cell_type": "code",
   "execution_count": 43,
   "id": "a048cd0f-898f-43cc-925d-7bc79c91d686",
   "metadata": {},
   "outputs": [
    {
     "data": {
      "text/html": [
       "<div>\n",
       "<style scoped>\n",
       "    .dataframe tbody tr th:only-of-type {\n",
       "        vertical-align: middle;\n",
       "    }\n",
       "\n",
       "    .dataframe tbody tr th {\n",
       "        vertical-align: top;\n",
       "    }\n",
       "\n",
       "    .dataframe thead th {\n",
       "        text-align: right;\n",
       "    }\n",
       "</style>\n",
       "<table border=\"1\" class=\"dataframe\">\n",
       "  <thead>\n",
       "    <tr style=\"text-align: right;\">\n",
       "      <th></th>\n",
       "      <th>Genre</th>\n",
       "      <th>IMDB</th>\n",
       "      <th>Runtime</th>\n",
       "    </tr>\n",
       "  </thead>\n",
       "  <tbody>\n",
       "    <tr>\n",
       "      <th>80</th>\n",
       "      <td>Animation, Drama, War</td>\n",
       "      <td>8.500000</td>\n",
       "      <td>89.000000</td>\n",
       "    </tr>\n",
       "    <tr>\n",
       "      <th>34</th>\n",
       "      <td>Action, Sci-Fi</td>\n",
       "      <td>8.400000</td>\n",
       "      <td>126.666667</td>\n",
       "    </tr>\n",
       "    <tr>\n",
       "      <th>166</th>\n",
       "      <td>Drama, Musical</td>\n",
       "      <td>8.400000</td>\n",
       "      <td>122.000000</td>\n",
       "    </tr>\n",
       "    <tr>\n",
       "      <th>171</th>\n",
       "      <td>Drama, Mystery, War</td>\n",
       "      <td>8.350000</td>\n",
       "      <td>139.000000</td>\n",
       "    </tr>\n",
       "    <tr>\n",
       "      <th>201</th>\n",
       "      <td>Western</td>\n",
       "      <td>8.350000</td>\n",
       "      <td>148.250000</td>\n",
       "    </tr>\n",
       "    <tr>\n",
       "      <th>144</th>\n",
       "      <td>Drama, Fantasy, Horror</td>\n",
       "      <td>8.300000</td>\n",
       "      <td>104.000000</td>\n",
       "    </tr>\n",
       "    <tr>\n",
       "      <th>116</th>\n",
       "      <td>Comedy, Musical, Romance</td>\n",
       "      <td>8.300000</td>\n",
       "      <td>103.000000</td>\n",
       "    </tr>\n",
       "    <tr>\n",
       "      <th>127</th>\n",
       "      <td>Crime, Drama, Music</td>\n",
       "      <td>8.300000</td>\n",
       "      <td>139.000000</td>\n",
       "    </tr>\n",
       "    <tr>\n",
       "      <th>131</th>\n",
       "      <td>Crime, Drama, Sci-Fi</td>\n",
       "      <td>8.300000</td>\n",
       "      <td>136.000000</td>\n",
       "    </tr>\n",
       "    <tr>\n",
       "      <th>59</th>\n",
       "      <td>Adventure, Mystery, Thriller</td>\n",
       "      <td>8.300000</td>\n",
       "      <td>136.000000</td>\n",
       "    </tr>\n",
       "    <tr>\n",
       "      <th>197</th>\n",
       "      <td>Mystery, Romance, Thriller</td>\n",
       "      <td>8.300000</td>\n",
       "      <td>128.000000</td>\n",
       "    </tr>\n",
       "    <tr>\n",
       "      <th>141</th>\n",
       "      <td>Drama, Family, Sport</td>\n",
       "      <td>8.250000</td>\n",
       "      <td>121.000000</td>\n",
       "    </tr>\n",
       "    <tr>\n",
       "      <th>138</th>\n",
       "      <td>Drama, Family</td>\n",
       "      <td>8.233333</td>\n",
       "      <td>130.000000</td>\n",
       "    </tr>\n",
       "    <tr>\n",
       "      <th>6</th>\n",
       "      <td>Action, Adventure, Fantasy</td>\n",
       "      <td>8.200000</td>\n",
       "      <td>133.500000</td>\n",
       "    </tr>\n",
       "    <tr>\n",
       "      <th>148</th>\n",
       "      <td>Drama, Fantasy, War</td>\n",
       "      <td>8.200000</td>\n",
       "      <td>118.000000</td>\n",
       "    </tr>\n",
       "  </tbody>\n",
       "</table>\n",
       "</div>"
      ],
      "text/plain": [
       "                            Genre      IMDB     Runtime\n",
       "80          Animation, Drama, War  8.500000   89.000000\n",
       "34                 Action, Sci-Fi  8.400000  126.666667\n",
       "166                Drama, Musical  8.400000  122.000000\n",
       "171           Drama, Mystery, War  8.350000  139.000000\n",
       "201                       Western  8.350000  148.250000\n",
       "144        Drama, Fantasy, Horror  8.300000  104.000000\n",
       "116      Comedy, Musical, Romance  8.300000  103.000000\n",
       "127           Crime, Drama, Music  8.300000  139.000000\n",
       "131          Crime, Drama, Sci-Fi  8.300000  136.000000\n",
       "59   Adventure, Mystery, Thriller  8.300000  136.000000\n",
       "197    Mystery, Romance, Thriller  8.300000  128.000000\n",
       "141          Drama, Family, Sport  8.250000  121.000000\n",
       "138                 Drama, Family  8.233333  130.000000\n",
       "6      Action, Adventure, Fantasy  8.200000  133.500000\n",
       "148           Drama, Fantasy, War  8.200000  118.000000"
      ]
     },
     "execution_count": 43,
     "metadata": {},
     "output_type": "execute_result"
    }
   ],
   "source": [
    "genre_cate=file.groupby('Genre')[['IMDB_Rating','Runtime']].mean().reset_index()\n",
    "genre_cate.columns=['Genre','IMDB','Runtime']\n",
    "genre_cate.sort_values(by='IMDB',ascending=False,inplace=True)\n",
    "\n",
    "genre_cate.head(15)\n"
   ]
  },
  {
   "cell_type": "markdown",
   "id": "3ca8e1aa-ca30-4c88-9955-e9bee989f30b",
   "metadata": {},
   "source": [
    "**Insight:**\n",
    "\n",
    "Genres like *War*, *Drama*, *Sci fi*, and *Thriller* top the list in average IMDb ratings, indicating that audiences connect more with intense, emotional, or real-world narratives.\n",
    "\n",
    "While *War* films average a surprisingly short runtime of just **89 minutes**, other high-performing genres hover around **110 minutes**, showing that there's no strict rule — both **tight narratives** and **well-paced longer films** can succeed.\n",
    "\n",
    "This suggests that audiences favor movies with impactful storytelling — whether short or long — especially when combined with powerful genre themes and point-to-point scripting.\n"
   ]
  },
  {
   "cell_type": "markdown",
   "id": "195c25a3-babe-4c4d-804d-4901e7a08d8e",
   "metadata": {},
   "source": [
    "## 📊 Average IMDb Rating by Genre – Bar Plot\n",
    "\n",
    "The Plot below shows a clear visualisation off genre vs imdb\n",
    "\n",
    "By showing the ratings side-by-side, we can instantly spot which genres consistently perform better and which fall behind.\n"
   ]
  },
  {
   "cell_type": "code",
   "execution_count": 47,
   "id": "867caf5c-9575-403e-bdaf-4df459f2b83d",
   "metadata": {},
   "outputs": [],
   "source": [
    "\n",
    "import warnings\n",
    "warnings.filterwarnings('ignore')\n"
   ]
  },
  {
   "cell_type": "code",
   "execution_count": 52,
   "id": "9e58c7ce-6fef-4afd-a546-40d9984c3641",
   "metadata": {},
   "outputs": [
    {
     "data": {
      "image/png": "[encoded data removed]",
      "text/plain": [
       "<Figure size 640x480 with 1 Axes>"
      ]
     },
     "metadata": {},
     "output_type": "display_data"
    }
   ],
   "source": [
    "category=genre_cate.head(15)\n",
    "sns.barplot(data=category,x='Genre',y='IMDB',palette='viridis')\n",
    "plt.xticks(rotation=80)\n",
    "plt.title('Genre vs IMDB_rating');"
   ]
  },
  {
   "cell_type": "markdown",
   "id": "cd2b1f46-c6aa-464c-9bbe-f169921756a8",
   "metadata": {},
   "source": [
    "## 🔥 Correlation Heatmap\n",
    "\n",
    "To understand the relationship between key numeric features like IMDb Rating, Meta Score, Runtime, and Gross, we use a correlation heatmap.\n",
    "\n",
    "This helps us identify which features move together — for example, whether critic scores align with audience ratings, or if longer movies tend to earn more.\n"
   ]
  },
  {
   "cell_type": "code",
   "execution_count": 67,
   "id": "dad501e3-0e60-46c3-8702-ef93df08cb22",
   "metadata": {},
   "outputs": [
    {
     "data": {
      "image/png": "[encoded data removed]",
      "text/plain": [
       "<Figure size 640x480 with 2 Axes>"
      ]
     },
     "metadata": {},
     "output_type": "display_data"
    }
   ],
   "source": [
    "numeric_cols = ['IMDB_Rating', 'Meta_score', 'Runtime', 'Gross']\n",
    "\n",
    "\n",
    "\n",
    "sns.heatmap(file[numeric_cols].corr(), annot=True, cmap='coolwarm', fmt='.2f')\n",
    "plt.title('Correlation Heatmap of Movie Features');\n",
    "\n"
   ]
  },
  {
   "cell_type": "markdown",
   "id": "3d961e80-7886-4afb-beb8-a6f81cbf2024",
   "metadata": {},
   "source": [
    "## 🔍 Insights from the Correlation Heatmap\n",
    "\n",
    "The correlation heatmap reveals the following:\n",
    "\n",
    "- **IMDb Rating vs Gross**: Very weak positive correlation (0.16), indicating that highly rated movies do not necessarily earn significantly more revenue.\n",
    "- **IMDb Rating vs Runtime**: Slight positive correlation (0.24), suggesting that longer movies may receive slightly better ratings from audiences.\n",
    "- **IMDb Rating vs Meta Score**: Almost no correlation (-0.04), showing that audience ratings and critic reviews often differ — critical acclaim doesn't always match popular opinion.\n",
    "\n",
    "These patterns highlight that **movie success is not solely dependent on runtime or revenue**, and audience reception can differ significantly from critic evaluations.\n",
    "* It show the movie success depends on the other characteristic like **genre** ,**storytelling* etc\n"
   ]
  },
  {
   "cell_type": "markdown",
   "id": "ed824f3a-9d73-469c-ac44-b9c7e774ef24",
   "metadata": {},
   "source": [
    "## 🎯 Top-Rated Movies in Each Genre\n",
    "\n",
    "To understand which movies lead their genres, we extracted the highest-rated film from each primary genre. This helps us identify standout performers across different themes, such as Action, Drama, Comedy, etc.\n",
    "\n",
    "Only the **first genre listed** for each movie was considered as the primary category.\n"
   ]
  },
  {
   "cell_type": "code",
   "execution_count": 77,
   "id": "7fcc2728-7ef7-4459-b25f-8fa153832901",
   "metadata": {},
   "outputs": [
    {
     "data": {
      "text/html": [
       "<div>\n",
       "<style scoped>\n",
       "    .dataframe tbody tr th:only-of-type {\n",
       "        vertical-align: middle;\n",
       "    }\n",
       "\n",
       "    .dataframe tbody tr th {\n",
       "        vertical-align: top;\n",
       "    }\n",
       "\n",
       "    .dataframe thead th {\n",
       "        text-align: right;\n",
       "    }\n",
       "</style>\n",
       "<table border=\"1\" class=\"dataframe\">\n",
       "  <thead>\n",
       "    <tr style=\"text-align: right;\">\n",
       "      <th></th>\n",
       "      <th>Series_Title</th>\n",
       "      <th>main_genre</th>\n",
       "      <th>Runtime</th>\n",
       "      <th>IMDB_Rating</th>\n",
       "    </tr>\n",
       "  </thead>\n",
       "  <tbody>\n",
       "    <tr>\n",
       "      <th>0</th>\n",
       "      <td>The Shawshank Redemption</td>\n",
       "      <td>Drama</td>\n",
       "      <td>142</td>\n",
       "      <td>9.3</td>\n",
       "    </tr>\n",
       "    <tr>\n",
       "      <th>1</th>\n",
       "      <td>The Godfather</td>\n",
       "      <td>Crime</td>\n",
       "      <td>175</td>\n",
       "      <td>9.2</td>\n",
       "    </tr>\n",
       "    <tr>\n",
       "      <th>2</th>\n",
       "      <td>The Dark Knight</td>\n",
       "      <td>Action</td>\n",
       "      <td>152</td>\n",
       "      <td>9.0</td>\n",
       "    </tr>\n",
       "    <tr>\n",
       "      <th>7</th>\n",
       "      <td>Schindler's List</td>\n",
       "      <td>Biography</td>\n",
       "      <td>195</td>\n",
       "      <td>8.9</td>\n",
       "    </tr>\n",
       "    <tr>\n",
       "      <th>12</th>\n",
       "      <td>Il buono, il brutto, il cattivo</td>\n",
       "      <td>Western</td>\n",
       "      <td>161</td>\n",
       "      <td>8.8</td>\n",
       "    </tr>\n",
       "    <tr>\n",
       "      <th>21</th>\n",
       "      <td>Interstellar</td>\n",
       "      <td>Adventure</td>\n",
       "      <td>169</td>\n",
       "      <td>8.6</td>\n",
       "    </tr>\n",
       "    <tr>\n",
       "      <th>19</th>\n",
       "      <td>Gisaengchung</td>\n",
       "      <td>Comedy</td>\n",
       "      <td>132</td>\n",
       "      <td>8.6</td>\n",
       "    </tr>\n",
       "    <tr>\n",
       "      <th>23</th>\n",
       "      <td>Sen to Chihiro no kamikakushi</td>\n",
       "      <td>Animation</td>\n",
       "      <td>125</td>\n",
       "      <td>8.6</td>\n",
       "    </tr>\n",
       "    <tr>\n",
       "      <th>49</th>\n",
       "      <td>Psycho</td>\n",
       "      <td>Horror</td>\n",
       "      <td>109</td>\n",
       "      <td>8.5</td>\n",
       "    </tr>\n",
       "    <tr>\n",
       "      <th>69</th>\n",
       "      <td>Memento</td>\n",
       "      <td>Mystery</td>\n",
       "      <td>113</td>\n",
       "      <td>8.4</td>\n",
       "    </tr>\n",
       "    <tr>\n",
       "      <th>321</th>\n",
       "      <td>Das Cabinet des Dr. Caligari</td>\n",
       "      <td>Fantasy</td>\n",
       "      <td>76</td>\n",
       "      <td>8.1</td>\n",
       "    </tr>\n",
       "    <tr>\n",
       "      <th>309</th>\n",
       "      <td>The Third Man</td>\n",
       "      <td>Film-Noir</td>\n",
       "      <td>104</td>\n",
       "      <td>8.1</td>\n",
       "    </tr>\n",
       "    <tr>\n",
       "      <th>688</th>\n",
       "      <td>E.T. the Extra-Terrestrial</td>\n",
       "      <td>Family</td>\n",
       "      <td>115</td>\n",
       "      <td>7.8</td>\n",
       "    </tr>\n",
       "    <tr>\n",
       "      <th>700</th>\n",
       "      <td>Wait Until Dark</td>\n",
       "      <td>Thriller</td>\n",
       "      <td>108</td>\n",
       "      <td>7.8</td>\n",
       "    </tr>\n",
       "  </tbody>\n",
       "</table>\n",
       "</div>"
      ],
      "text/plain": [
       "                        Series_Title main_genre  Runtime  IMDB_Rating\n",
       "0           The Shawshank Redemption      Drama      142          9.3\n",
       "1                      The Godfather      Crime      175          9.2\n",
       "2                    The Dark Knight     Action      152          9.0\n",
       "7                   Schindler's List  Biography      195          8.9\n",
       "12   Il buono, il brutto, il cattivo    Western      161          8.8\n",
       "21                      Interstellar  Adventure      169          8.6\n",
       "19                      Gisaengchung     Comedy      132          8.6\n",
       "23     Sen to Chihiro no kamikakushi  Animation      125          8.6\n",
       "49                            Psycho     Horror      109          8.5\n",
       "69                           Memento    Mystery      113          8.4\n",
       "321     Das Cabinet des Dr. Caligari    Fantasy       76          8.1\n",
       "309                    The Third Man  Film-Noir      104          8.1\n",
       "688       E.T. the Extra-Terrestrial     Family      115          7.8\n",
       "700                  Wait Until Dark   Thriller      108          7.8"
      ]
     },
     "execution_count": 77,
     "metadata": {},
     "output_type": "execute_result"
    }
   ],
   "source": [
    "#splitting for getting the main genres\n",
    "file['main_genre']=file.Genre.apply(lambda x:x.split(',')[0])\n",
    "# grouping by Genre and getting the max imdb rated for each Genre\n",
    "top_per_genre=file.loc[file.groupby('main_genre').IMDB_Rating.idxmax(),['Series_Title','main_genre','Runtime','IMDB_Rating']]\n",
    "top_per_genre.reset_index(drop=True)\n",
    "top_per_genre.sort_values('IMDB_Rating',ascending=False,inplace=True)\n",
    "top_per_genre.head(15)"
   ]
  },
  {
   "cell_type": "markdown",
   "id": "9eb9295f-1cbf-439c-bd2c-f1fb72d60b31",
   "metadata": {},
   "source": [
    "# Now lets see the directors who constantly produce highest imdb Movies\n",
    "* This give us a idea of the consistency of directors\n"
   ]
  },
  {
   "cell_type": "code",
   "execution_count": 87,
   "id": "4ae6c3af-7618-4ec6-8b68-15003342af97",
   "metadata": {},
   "outputs": [
    {
     "name": "stdout",
     "output_type": "stream",
     "text": [
      "               Director  IMDb_avg\n",
      "141      Frank Darabont      8.95\n",
      "284      Lana Wachowski      8.70\n",
      "191      Irvin Kershner      8.70\n",
      "316    Masaki Kobayashi      8.60\n",
      "135  Fernando Meirelles      8.60\n",
      "158        George Lucas      8.60\n",
      "472       Sudha Kongara      8.60\n",
      "492         Thomas Kail      8.60\n",
      "427     Roberto Benigni      8.60\n",
      "342        Milos Forman      8.50\n"
     ]
    }
   ],
   "source": [
    "director_mov=file.groupby('Director').IMDB_Rating.mean().reset_index()\n",
    "director_mov.columns=['Director','IMDb_avg']\n",
    "director_mov.sort_values('IMDb_avg',ascending=False,inplace=True)\n",
    "top_10=director_mov.head(10)\n",
    "print(top_10);"
   ]
  },
  {
   "cell_type": "code",
   "execution_count": 86,
   "id": "2304b4f4-3e07-4a19-84b8-21dbc0213147",
   "metadata": {},
   "outputs": [
    {
     "data": {
      "image/png": "[encoded data removed]",
      "text/plain": [
       "<Figure size 640x480 with 1 Axes>"
      ]
     },
     "metadata": {},
     "output_type": "display_data"
    }
   ],
   "source": [
    "sns.barplot(data=top_10,x='Director',y='IMDb_avg',palette='crest')\n",
    "plt.title('Top 10 Directors')\n",
    "plt.xticks(rotation=60);"
   ]
  },
  {
   "cell_type": "markdown",
   "id": "9eb95b2b-a866-4660-b54e-2c346714a2f7",
   "metadata": {},
   "source": [
    "## 🎬 Top 10 Directors and Their Preferred Genres\n",
    "\n",
    "After identifying the top 10 directors based on their average IMDb ratings (minimum 3 movies), we further analyzed the **most common genre** they work with.\n",
    "\n",
    "This gives insight into each director's **creative strength** and audience preference. Some directors specialize in specific genres that consistently perform well.\n",
    "\n",
    "### 🔍 Observations:\n",
    "- **Frank Darabont**, the highest-rated director, most frequently works in **Drama** — a genre known for emotional storytelling.\n",
    "- **Lana Wachowski** is strongly associated with **Sci-Fi**, reflecting her work on *The Matrix* series.\n",
    "- **Irvin Kershner**, known for *Star Wars: The Empire Strikes Back*, is associated with **Action**.\n",
    "\n",
    "This shows that many top directors **thrive within a particular genre**, contributing to their consistent success and critical acclaim.\n"
   ]
  },
  {
   "cell_type": "code",
   "execution_count": 103,
   "id": "194ca230-f6f7-48ee-83ba-25f9e6794932",
   "metadata": {},
   "outputs": [
    {
     "name": "stdout",
     "output_type": "stream",
     "text": [
      "             Director  IMDb_avg main_genre\n",
      "0      Frank Darabont      8.95      Crime\n",
      "1      Lana Wachowski      8.70     Action\n",
      "2      Irvin Kershner      8.70     Action\n",
      "3    Masaki Kobayashi      8.60     Action\n",
      "4  Fernando Meirelles      8.60      Crime\n",
      "5        George Lucas      8.60     Action\n",
      "6       Sudha Kongara      8.60      Drama\n",
      "7         Thomas Kail      8.60  Biography\n",
      "8     Roberto Benigni      8.60     Comedy\n",
      "9        Milos Forman      8.50  Biography\n"
     ]
    }
   ],
   "source": [
    "top_directors=file[file.Director.isin(top_10.Director)]\n",
    "top_genres=top_directors.groupby(['Director','main_genre']).size().reset_index(name='count')\n",
    "new=top_genres.loc[top_genres.groupby('Director')['count'].idxmax(),['Director','main_genre']]\n",
    "top_10_directors_genre=top_10.merge(new,on='Director')\n",
    "print(top_10_directors_genre);"
   ]
  },
  {
   "cell_type": "markdown",
   "id": "8d9784b1-5413-4270-b8ae-d2f4178823b9",
   "metadata": {},
   "source": [
    "# So these are the top 10 directors along with their most used genre\n",
    "* This shows most of the succesful Directors tend to work on action followed by crime\n",
    "# Lets see a barplot"
   ]
  },
  {
   "cell_type": "code",
   "execution_count": 106,
   "id": "6283639f-4d93-42fc-bc53-6b372d2ce1a5",
   "metadata": {},
   "outputs": [
    {
     "data": {
      "image/png": "[encoded data removed]",
      "text/plain": [
       "<Figure size 640x480 with 1 Axes>"
      ]
     },
     "metadata": {},
     "output_type": "display_data"
    }
   ],
   "source": [
    "sns.barplot(data=top_10_directors_genre,x='Director',y='IMDb_avg',hue='main_genre')\n",
    "plt.title('top 10 Directors and their most used genres')\n",
    "plt.xticks(rotation=60);"
   ]
  },
  {
   "cell_type": "code",
   "execution_count": null,
   "id": "3e5c1322-2576-4692-bdb6-11c8d4817d20",
   "metadata": {},
   "outputs": [],
   "source": []
  },
  {
   "cell_type": "code",
   "execution_count": 107,
   "id": "db68d964-6006-4de9-8b26-1c9a7b30dbce",
   "metadata": {},
   "outputs": [],
   "source": [
    "file.to_csv('final_cleaned.csv')"
   ]
  },
  {
   "cell_type": "markdown",
   "id": "8578955b-8abb-4069-9856-0adcec26b8cb",
   "metadata": {},
   "source": [
    "## ✅ Final Conclusion\n",
    "\n",
    "In this project, we conducted an in-depth analysis of **IMDb Top 1000 Movies**, focusing on identifying the key factors that contribute to a movie's success.\n",
    "\n",
    "### 📌 Key Findings:\n",
    "- **Genres like Drama, Biography, and Thriller** consistently receive higher IMDb ratings, suggesting audience preference for strong storytelling and character depth.\n",
    "- **Directors** play a major role in movie success — **Frank Darabont**, **Lana Wachowski**, and **Irvin Kershner** lead with exceptionally high average ratings, each working predominantly in their preferred genres.\n",
    "- While **Runtime** has a mild positive correlation with IMDb rating, most top-rated films fall in the **90–130 minute** range, indicating a sweet spot for pacing.\n",
    "- **Certificates (U, UA, A, R)** also show rating trends — with U/UA certified movies being most common, though adult content doesn't always mean higher ratings.\n",
    "- **Meta Score and Gross** show weak correlations with IMDb ratings, but combining them still adds some analytical weight.\n",
    "\n",
    "### 📊 Tools Used:\n",
    "- **Python & Pandas**: Data cleaning, transformation, and analysis\n",
    "- **Matplotlib & Seaborn**: Visual storytelling through insightful plots\n",
    "- **Tableau** *(next step)*: For interactive dashboards and presentations\n",
    "- **SQL** *(final step)*: To showcase querying and relational understanding\n",
    "\n",
    "### 🎯 Conclusion:\n",
    "Through this project, we successfully demonstrated how data-driven storytelling can uncover what makes a movie critically successful. The combination of **genre focus, strong direction, and well-balanced runtime** appears to be key — giving us insights that are both **analytical and actionable**.\n",
    "\n"
   ]
  },
  {
   "cell_type": "code",
   "execution_count": null,
   "id": "4b278dd6-78c2-40a4-a33b-bef7e2d1a4f1",
   "metadata": {},
   "outputs": [],
   "source": []
  }
 ],
 "metadata": {
  "kernelspec": {
   "display_name": "Python 3 (ipykernel)",
   "language": "python",
   "name": "python3"
  },
  "language_info": {
   "codemirror_mode": {
    "name": "ipython",
    "version": 3
   },
   "file_extension": ".py",
   "mimetype": "text/x-python",
   "name": "python",
   "nbconvert_exporter": "python",
   "pygments_lexer": "ipython3",
   "version": "3.13.3"
  }
 },
 "nbformat": 4,
 "nbformat_minor": 5
}
